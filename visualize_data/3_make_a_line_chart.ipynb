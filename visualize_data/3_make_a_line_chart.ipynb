{
 "cells": [
  {
   "cell_type": "markdown",
   "id": "0e469c8a",
   "metadata": {},
   "source": [
    "Exercise 4: Make a line chart"
   ]
  },
  {
   "cell_type": "code",
   "execution_count": null,
   "id": "681c2647",
   "metadata": {},
   "outputs": [],
   "source": []
  },
  {
   "cell_type": "markdown",
   "id": "3e8a417c",
   "metadata": {},
   "source": [
    "#### Setup"
   ]
  },
  {
   "cell_type": "code",
   "execution_count": 1,
   "id": "047d9dc9",
   "metadata": {
    "deletable": false,
    "tags": [
     "setup"
    ]
   },
   "outputs": [
    {
     "data": {
      "text/html": [
       "<div>\n",
       "<style scoped>\n",
       "    .dataframe tbody tr th:only-of-type {\n",
       "        vertical-align: middle;\n",
       "    }\n",
       "\n",
       "    .dataframe tbody tr th {\n",
       "        vertical-align: top;\n",
       "    }\n",
       "\n",
       "    .dataframe thead th {\n",
       "        text-align: right;\n",
       "    }\n",
       "</style>\n",
       "<table border=\"1\" class=\"dataframe\">\n",
       "  <thead>\n",
       "    <tr style=\"text-align: right;\">\n",
       "      <th></th>\n",
       "      <th>month_num</th>\n",
       "      <th>month_name</th>\n",
       "      <th>london_avg_high</th>\n",
       "      <th>london_avg</th>\n",
       "      <th>london_avg_low</th>\n",
       "      <th>windhoek_avg_high</th>\n",
       "      <th>windhoek_avg</th>\n",
       "      <th>windhoek_avg_low</th>\n",
       "      <th>quito_avg_high</th>\n",
       "      <th>quito_avg</th>\n",
       "      <th>quito_avg_low</th>\n",
       "      <th>kodiak_avg_high</th>\n",
       "      <th>kodiak_avg</th>\n",
       "      <th>kodiak_avg_low</th>\n",
       "      <th>samarqand_avg_high</th>\n",
       "      <th>samarqand_avg</th>\n",
       "      <th>samarqand_avg_low</th>\n",
       "      <th>alice_springs_avg_high</th>\n",
       "      <th>alice_springs_avg</th>\n",
       "      <th>alice_springs_avg_low</th>\n",
       "    </tr>\n",
       "  </thead>\n",
       "  <tbody>\n",
       "    <tr>\n",
       "      <th>0</th>\n",
       "      <td>1</td>\n",
       "      <td>january</td>\n",
       "      <td>47</td>\n",
       "      <td>43</td>\n",
       "      <td>39</td>\n",
       "      <td>86</td>\n",
       "      <td>75</td>\n",
       "      <td>65</td>\n",
       "      <td>64</td>\n",
       "      <td>56</td>\n",
       "      <td>49</td>\n",
       "      <td>36</td>\n",
       "      <td>32</td>\n",
       "      <td>28</td>\n",
       "      <td>43</td>\n",
       "      <td>35</td>\n",
       "      <td>28</td>\n",
       "      <td>96</td>\n",
       "      <td>85</td>\n",
       "      <td>71</td>\n",
       "    </tr>\n",
       "    <tr>\n",
       "      <th>1</th>\n",
       "      <td>2</td>\n",
       "      <td>february</td>\n",
       "      <td>48</td>\n",
       "      <td>43</td>\n",
       "      <td>39</td>\n",
       "      <td>84</td>\n",
       "      <td>73</td>\n",
       "      <td>64</td>\n",
       "      <td>64</td>\n",
       "      <td>56</td>\n",
       "      <td>49</td>\n",
       "      <td>37</td>\n",
       "      <td>32</td>\n",
       "      <td>29</td>\n",
       "      <td>46</td>\n",
       "      <td>38</td>\n",
       "      <td>31</td>\n",
       "      <td>94</td>\n",
       "      <td>83</td>\n",
       "      <td>70</td>\n",
       "    </tr>\n",
       "    <tr>\n",
       "      <th>2</th>\n",
       "      <td>3</td>\n",
       "      <td>march</td>\n",
       "      <td>52</td>\n",
       "      <td>47</td>\n",
       "      <td>42</td>\n",
       "      <td>82</td>\n",
       "      <td>71</td>\n",
       "      <td>62</td>\n",
       "      <td>64</td>\n",
       "      <td>56</td>\n",
       "      <td>49</td>\n",
       "      <td>39</td>\n",
       "      <td>34</td>\n",
       "      <td>30</td>\n",
       "      <td>56</td>\n",
       "      <td>47</td>\n",
       "      <td>39</td>\n",
       "      <td>90</td>\n",
       "      <td>78</td>\n",
       "      <td>64</td>\n",
       "    </tr>\n",
       "    <tr>\n",
       "      <th>3</th>\n",
       "      <td>4</td>\n",
       "      <td>april</td>\n",
       "      <td>58</td>\n",
       "      <td>51</td>\n",
       "      <td>45</td>\n",
       "      <td>79</td>\n",
       "      <td>68</td>\n",
       "      <td>57</td>\n",
       "      <td>64</td>\n",
       "      <td>56</td>\n",
       "      <td>49</td>\n",
       "      <td>44</td>\n",
       "      <td>38</td>\n",
       "      <td>34</td>\n",
       "      <td>69</td>\n",
       "      <td>59</td>\n",
       "      <td>49</td>\n",
       "      <td>82</td>\n",
       "      <td>69</td>\n",
       "      <td>55</td>\n",
       "    </tr>\n",
       "    <tr>\n",
       "      <th>4</th>\n",
       "      <td>5</td>\n",
       "      <td>may</td>\n",
       "      <td>63</td>\n",
       "      <td>57</td>\n",
       "      <td>50</td>\n",
       "      <td>75</td>\n",
       "      <td>63</td>\n",
       "      <td>52</td>\n",
       "      <td>65</td>\n",
       "      <td>56</td>\n",
       "      <td>49</td>\n",
       "      <td>51</td>\n",
       "      <td>45</td>\n",
       "      <td>40</td>\n",
       "      <td>79</td>\n",
       "      <td>68</td>\n",
       "      <td>57</td>\n",
       "      <td>73</td>\n",
       "      <td>60</td>\n",
       "      <td>47</td>\n",
       "    </tr>\n",
       "  </tbody>\n",
       "</table>\n",
       "</div>"
      ],
      "text/plain": [
       "   month_num month_name  london_avg_high  london_avg  london_avg_low  \\\n",
       "0          1    january               47          43              39   \n",
       "1          2   february               48          43              39   \n",
       "2          3      march               52          47              42   \n",
       "3          4      april               58          51              45   \n",
       "4          5        may               63          57              50   \n",
       "\n",
       "   windhoek_avg_high  windhoek_avg  windhoek_avg_low  quito_avg_high  \\\n",
       "0                 86            75                65              64   \n",
       "1                 84            73                64              64   \n",
       "2                 82            71                62              64   \n",
       "3                 79            68                57              64   \n",
       "4                 75            63                52              65   \n",
       "\n",
       "   quito_avg  quito_avg_low  kodiak_avg_high  kodiak_avg  kodiak_avg_low  \\\n",
       "0         56             49               36          32              28   \n",
       "1         56             49               37          32              29   \n",
       "2         56             49               39          34              30   \n",
       "3         56             49               44          38              34   \n",
       "4         56             49               51          45              40   \n",
       "\n",
       "   samarqand_avg_high  samarqand_avg  samarqand_avg_low  \\\n",
       "0                  43             35                 28   \n",
       "1                  46             38                 31   \n",
       "2                  56             47                 39   \n",
       "3                  69             59                 49   \n",
       "4                  79             68                 57   \n",
       "\n",
       "   alice_springs_avg_high  alice_springs_avg  alice_springs_avg_low  \n",
       "0                      96                 85                     71  \n",
       "1                      94                 83                     70  \n",
       "2                      90                 78                     64  \n",
       "3                      82                 69                     55  \n",
       "4                      73                 60                     47  "
      ]
     },
     "execution_count": 1,
     "metadata": {},
     "output_type": "execute_result"
    }
   ],
   "source": [
    "# import matplotlib and pandas\n",
    "from matplotlib import pyplot as plt\n",
    "import pandas as pd\n",
    "\n",
    "# load dataset\n",
    "line_data = pd.read_csv('2020-monthly-avg-temps-f.csv')\n",
    "line_data.head()"
   ]
  },
  {
   "cell_type": "code",
   "execution_count": 2,
   "id": "ca77a7c1",
   "metadata": {},
   "outputs": [],
   "source": [
    "# display the charts correctly\n",
    "%matplotlib inline\n",
    "plt.rcParams['figure.figsize'] = (5, 3)\n",
    "plt.rcParams['figure.dpi'] = 75"
   ]
  },
  {
   "cell_type": "markdown",
   "id": "dc765516",
   "metadata": {},
   "source": [
    "#### Narrative examples"
   ]
  },
  {
   "cell_type": "code",
   "execution_count": 3,
   "id": "33bbfd1b",
   "metadata": {},
   "outputs": [
    {
     "data": {
      "image/png": "[encoded data removed]",
      "text/plain": [
       "<Figure size 375x225 with 1 Axes>"
      ]
     },
     "metadata": {},
     "output_type": "display_data"
    }
   ],
   "source": [
    "## make a line chart from direct data\n",
    "plt.plot(['Mon', 'Tues', 'Weds', 'Thurs', 'Fri', 'Sat', 'Sun'], [540, 500, 490, 590, 680, 710, 610])\n",
    "plt.show()"
   ]
  },
  {
   "cell_type": "code",
   "execution_count": 4,
   "id": "da1efc1a",
   "metadata": {},
   "outputs": [
    {
     "data": {
      "image/png": "[encoded data removed]",
      "text/plain": [
       "<Figure size 375x225 with 1 Axes>"
      ]
     },
     "metadata": {},
     "output_type": "display_data"
    }
   ],
   "source": [
    "# make a line chart using named arrays\n",
    "day = ['Mon', 'Tues', 'Weds', 'Thurs', 'Fri', 'Sat', 'Sun']\n",
    "sales_totals = [540, 500, 490, 590, 680, 710, 610]\n",
    "plt.plot(day, sales_totals)\n",
    "plt.show()"
   ]
  },
  {
   "cell_type": "code",
   "execution_count": 5,
   "id": "71388fce",
   "metadata": {},
   "outputs": [
    {
     "data": {
      "image/png": "[encoded data removed]",
      "text/plain": [
       "<Figure size 375x225 with 1 Axes>"
      ]
     },
     "metadata": {},
     "output_type": "display_data"
    }
   ],
   "source": [
    "# make a line chart with columns from a dataframe\n",
    "df = pd.read_csv('restaurant_data.csv')\n",
    "plt.plot(df.day, df.sales_totals)\n",
    "plt.show()"
   ]
  },
  {
   "cell_type": "markdown",
   "id": "079e0e0c",
   "metadata": {},
   "source": [
    "#### 1. Write the code to make a line graph the monthly average high temperature in Windhoek."
   ]
  },
  {
   "cell_type": "code",
   "execution_count": 6,
   "id": "b318baec",
   "metadata": {
    "deletable": false,
    "tags": [
     "cp1"
    ]
   },
   "outputs": [],
   "source": [
    "## YOUR SOLUTION HERE ##\n",
    "month_name = ['Jan', 'Feb', 'Mar', 'Apr', 'May', 'Jun', 'Jul', 'Aug', 'Sep', 'Oct','Nov','Dec']\n",
    "\n",
    "\n",
    "plt.plot(month_name, line_data.avg_temp)\n",
    "\n",
    "## show the plot\n",
    "plt.show()"
   ]
  },
  {
   "cell_type": "markdown",
   "id": "6a172e5e",
   "metadata": {},
   "source": [
    "#### 2. Add a line to the graph code to compare the monthly average high temperature in Kodiak. "
   ]
  },
  {
   "cell_type": "code",
   "execution_count": 7,
   "id": "e73ed471",
   "metadata": {
    "deletable": false,
    "tags": [
     "cp2"
    ]
   },
   "outputs": [],
   "source": [
    "## YOUR SOLUTION HERE ##\n",
    "plt.plot(line_data.month_name, line_data.windhoek_avg_high)\n",
    "plt.plot(line_data.month_name, line_data.kodiak_avg_high)\n",
    "\n",
    "## show the plot\n",
    "plt.show()"
   ]
  },
  {
   "cell_type": "markdown",
   "id": "a90dc98e",
   "metadata": {},
   "source": [
    "<details>\n",
    "    <summary style=\"display:list-item; font-size:16px; color:blue;\"><i>What do you notice about this graph? What's useful about it? What is not? Toggle to check:</i></summary>\n",
    "    The graph <i>does</i> show a clear difference in the yearly temperature patterns between Kodiak and Windhoek. \n",
    "    However, it's not possible to tell which line goes with which city, and the comparison of just two cities may be of limited value.\n",
    "    </details>\n",
    "    "
   ]
  },
  {
   "cell_type": "markdown",
   "id": "54123abb",
   "metadata": {},
   "source": [
    "#### 3. Add a line for each of the other cities."
   ]
  },
  {
   "cell_type": "code",
   "execution_count": 8,
   "id": "4ddf801b",
   "metadata": {
    "deletable": false,
    "tags": [
     "cp3"
    ]
   },
   "outputs": [],
   "source": [
    "## YOUR SOLUTION HERE ##\n",
    "plt.plot(line_data.month_name, line_data.windhoek_avg_high)\n",
    "plt.plot(line_data.month_name, line_data.kodiak_avg_high)\n",
    "\n",
    "## show the plot\n",
    "plt.show()"
   ]
  },
  {
   "cell_type": "markdown",
   "id": "b91f927c",
   "metadata": {},
   "source": [
    "<details>\n",
    "    <summary style=\"display:list-item; font-size:16px; color:blue;\"><i>How about this graph? What is useful and what is not? Toggle to check:</i></summary>\n",
    "    It's easier to see now that there are groups of temperature patterns for different cities, not a different pattern for each and every city. \n",
    "    However, it's even harder to tell different cities apart with more lines and still no labels or legend.  \n",
    "    </details>"
   ]
  }
 ],
 "metadata": {
  "kernelspec": {
   "display_name": "Python 3 (ipykernel)",
   "language": "python",
   "name": "python3"
  },
  "language_info": {
   "codemirror_mode": {
    "name": "ipython",
    "version": 3
   },
   "file_extension": ".py",
   "mimetype": "text/x-python",
   "name": "python",
   "nbconvert_exporter": "python",
   "pygments_lexer": "ipython3",
   "version": "3.8.10"
  }
 },
 "nbformat": 4,
 "nbformat_minor": 5
}
