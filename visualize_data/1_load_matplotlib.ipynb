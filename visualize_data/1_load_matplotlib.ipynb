{
 "cells": [
  {
   "cell_type": "markdown",
   "id": "3ccc99a9",
   "metadata": {},
   "source": [
    "Exercise 1: Load MPL"
   ]
  },
  {
   "cell_type": "markdown",
   "id": "aa09ddb2",
   "metadata": {},
   "source": [
    "#### 1. Import packages"
   ]
  },
  {
   "cell_type": "markdown",
   "id": "4b6f0cd3",
   "metadata": {},
   "source": [
    "Start by running the code to load the packages we'll need for this exercise. In addition to `matplotlib`, we'll use the data manipulation library `pandas` to load our dataset. `pandas` and `matplotlib` are often paired together to handle and visualize data. "
   ]
  },
  {
   "cell_type": "code",
   "execution_count": 5,
   "id": "e6fc2da4",
   "metadata": {
    "deletable": false,
    "tags": [
     "setup"
    ]
   },
   "outputs": [
    {
     "ename": "SyntaxError",
     "evalue": "invalid syntax (1976045626.py, line 2)",
     "output_type": "error",
     "traceback": [
      "\u001b[1;36m  Cell \u001b[1;32mIn[5], line 2\u001b[1;36m\u001b[0m\n\u001b[1;33m    pip install matplotlib\u001b[0m\n\u001b[1;37m        ^\u001b[0m\n\u001b[1;31mSyntaxError\u001b[0m\u001b[1;31m:\u001b[0m invalid syntax\n"
     ]
    }
   ],
   "source": [
    "# load matplotlib and pandas\n",
    "from matplotlib import pyplot as plt\n",
    "import pandas as pd"
   ]
  },
  {
   "cell_type": "code",
   "execution_count": null,
   "id": "f0088f62",
   "metadata": {},
   "outputs": [],
   "source": [
    "# display chart correctly\n",
    "%matplotlib inline"
   ]
  },
  {
   "cell_type": "markdown",
   "id": "27fdba76",
   "metadata": {},
   "source": [
    "#### 2. Load data"
   ]
  },
  {
   "cell_type": "markdown",
   "id": "fd6187d8",
   "metadata": {},
   "source": [
    "We'll need some data to get a data visualization going! We're going to look at monthly average temperatures from around the world. Let's load that in using `pandas`."
   ]
  },
  {
   "cell_type": "code",
   "execution_count": null,
   "id": "c94927a1",
   "metadata": {
    "deletable": false,
    "tags": [
     "setup"
    ]
   },
   "outputs": [],
   "source": [
    "## load in the data\n",
    "data = pd.read_csv(\"2020-monthly-avg-temps-f.csv\")"
   ]
  },
  {
   "cell_type": "markdown",
   "id": "fc379e46",
   "metadata": {},
   "source": [
    "#### 3. Sneak peak ;)"
   ]
  },
  {
   "cell_type": "markdown",
   "id": "42cfc437",
   "metadata": {},
   "source": [
    "With our data loaded, let's take a peek at what matplotlib can do. The next code block is all set up: just Run it and click Save."
   ]
  },
  {
   "cell_type": "code",
   "execution_count": null,
   "id": "87153034",
   "metadata": {
    "deletable": false,
    "tags": [
     "cp3"
    ]
   },
   "outputs": [
    {
     "ename": "NameError",
     "evalue": "name 'plt' is not defined",
     "output_type": "error",
     "traceback": [
      "\u001b[1;31m---------------------------------------------------------------------------\u001b[0m",
      "\u001b[1;31mNameError\u001b[0m                                 Traceback (most recent call last)",
      "\u001b[1;32md:\\Desktop\\code\\learning\\laboratory\\python\\visualize_data\\notebook.ipynb Cell 11\u001b[0m line \u001b[0;36m2\n\u001b[0;32m      <a href='vscode-notebook-cell:/d%3A/Desktop/code/learning/laboratory/python/visualize_data/notebook.ipynb#X13sZmlsZQ%3D%3D?line=0'>1</a>\u001b[0m \u001b[39m# make a line chart\u001b[39;00m\n\u001b[1;32m----> <a href='vscode-notebook-cell:/d%3A/Desktop/code/learning/laboratory/python/visualize_data/notebook.ipynb#X13sZmlsZQ%3D%3D?line=1'>2</a>\u001b[0m plt\u001b[39m.\u001b[39mplot(data\u001b[39m.\u001b[39mmonth_name, data\u001b[39m.\u001b[39malice_springs_avg_high, color\u001b[39m=\u001b[39m\u001b[39m'\u001b[39m\u001b[39mdarkorange\u001b[39m\u001b[39m'\u001b[39m, label\u001b[39m=\u001b[39m\u001b[39m'\u001b[39m\u001b[39mAlice Springs\u001b[39m\u001b[39m'\u001b[39m)\n\u001b[0;32m      <a href='vscode-notebook-cell:/d%3A/Desktop/code/learning/laboratory/python/visualize_data/notebook.ipynb#X13sZmlsZQ%3D%3D?line=2'>3</a>\u001b[0m plt\u001b[39m.\u001b[39mplot(data\u001b[39m.\u001b[39mmonth_name, data\u001b[39m.\u001b[39mwindhoek_avg_high, color\u001b[39m=\u001b[39m\u001b[39m'\u001b[39m\u001b[39mpink\u001b[39m\u001b[39m'\u001b[39m, label\u001b[39m=\u001b[39m\u001b[39m'\u001b[39m\u001b[39mWindhoek\u001b[39m\u001b[39m'\u001b[39m)\n\u001b[0;32m      <a href='vscode-notebook-cell:/d%3A/Desktop/code/learning/laboratory/python/visualize_data/notebook.ipynb#X13sZmlsZQ%3D%3D?line=3'>4</a>\u001b[0m plt\u001b[39m.\u001b[39mplot(data\u001b[39m.\u001b[39mmonth_name, data\u001b[39m.\u001b[39mquito_avg_high, color\u001b[39m=\u001b[39m\u001b[39m'\u001b[39m\u001b[39mred\u001b[39m\u001b[39m'\u001b[39m, label\u001b[39m=\u001b[39m\u001b[39m'\u001b[39m\u001b[39mQuito\u001b[39m\u001b[39m'\u001b[39m)\n",
      "\u001b[1;31mNameError\u001b[0m: name 'plt' is not defined"
     ]
    }
   ],
   "source": [
    "# make a line chart\n",
    "plt.plot(data.month_name, data.alice_springs_avg_high, color='darkorange', label='Alice Springs')\n",
    "plt.plot(data.month_name, data.windhoek_avg_high, color='pink', label='Windhoek')\n",
    "plt.plot(data.month_name, data.quito_avg_high, color='red', label='Quito')\n",
    "plt.plot(data.month_name, data.kodiak_avg_high, color='green', label='Kodiak')\n",
    "plt.plot(data.month_name, data.samarqand_avg_high, color='steelblue', label='Samarqand')\n",
    "plt.plot(data.month_name, data.london_avg_high, color='purple', label='London')\n",
    "plt.title('Avg High Temps Around the World, 2020')\n",
    "plt.ylabel('Temperature (F)')\n",
    "plt.xlabel('Month')\n",
    "plt.legend(bbox_to_anchor =(1, .75))\n",
    "plt.tick_params(axis='x', labelrotation=45)\n",
    "plt.show()"
   ]
  },
  {
   "cell_type": "markdown",
   "id": "e28f8751",
   "metadata": {},
   "source": [
    "By the end of this lesson, we'll cover every bit of code needed to make this graph. Click `next` and let's keep going!"
   ]
  }
 ],
 "metadata": {
  "kernelspec": {
   "display_name": "Python 3 (ipykernel)",
   "language": "python",
   "name": "python3"
  },
  "language_info": {
   "codemirror_mode": {
    "name": "ipython",
    "version": 3
   },
   "file_extension": ".py",
   "mimetype": "text/x-python",
   "name": "python",
   "nbconvert_exporter": "python",
   "pygments_lexer": "ipython3",
   "version": "3.11.6"
  }
 },
 "nbformat": 4,
 "nbformat_minor": 5
}
