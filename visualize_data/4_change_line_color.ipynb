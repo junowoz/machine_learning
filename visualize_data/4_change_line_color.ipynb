{
 "cells": [
  {
   "cell_type": "markdown",
   "id": "6e6a1a78",
   "metadata": {},
   "source": [
    "Exercise 5: Change line color and formatting"
   ]
  },
  {
   "cell_type": "markdown",
   "id": "a558f4c2",
   "metadata": {},
   "source": [
    "#### Setup"
   ]
  },
  {
   "cell_type": "code",
   "execution_count": null,
   "id": "047d9dc9",
   "metadata": {
    "deletable": false,
    "tags": [
     "setup"
    ]
   },
   "outputs": [],
   "source": [
    "# import matplotlib and pandas\n",
    "from matplotlib import pyplot as plt\n",
    "import numpy as np\n",
    "import pandas as pd\n",
    "\n",
    "# load/create datasets\n",
    "line_data = pd.read_csv('2020-monthly-avg-temps-f.csv')\n",
    "x = [1, 2, 3, 4, 5, 6, 7, 8, 9, 10]\n",
    "y = [2, 5, 8, 3, 7, 4, 1, 9, 10, 14]"
   ]
  },
  {
   "cell_type": "code",
   "execution_count": null,
   "id": "3b469ce6",
   "metadata": {},
   "outputs": [],
   "source": [
    "%matplotlib inline"
   ]
  },
  {
   "cell_type": "markdown",
   "id": "079e0e0c",
   "metadata": {},
   "source": [
    "#### 1. Run the Setup blocks. The run the next three code blocks to compare red line graphs."
   ]
  },
  {
   "cell_type": "code",
   "execution_count": null,
   "id": "60f8521c",
   "metadata": {},
   "outputs": [],
   "source": [
    "plt.plot(x, y, color='r')\n",
    "plt.show()"
   ]
  },
  {
   "cell_type": "code",
   "execution_count": null,
   "id": "bc84bc36",
   "metadata": {},
   "outputs": [],
   "source": [
    "plt.plot(x, y, color='red')\n",
    "plt.show()"
   ]
  },
  {
   "cell_type": "code",
   "execution_count": null,
   "id": "63e43c16",
   "metadata": {},
   "outputs": [],
   "source": [
    "plt.plot(x, y, color='#FF0000')\n",
    "plt.show()"
   ]
  },
  {
   "cell_type": "markdown",
   "id": "6a172e5e",
   "metadata": {},
   "source": [
    "#### 2. Add `color` parameters "
   ]
  },
  {
   "cell_type": "markdown",
   "id": "a05d3192",
   "metadata": {},
   "source": [
    "Now, we'll use `color` to group the lines by hemisphere. \n",
    "\n",
    "* Make the line color for all of the cities in the Southern Hemisphere green (`'green'`). Those cities are Alice Springs (Australia) and Windhoek (Namibia). \n",
    "\n",
    "* Make the line color for Quito the color `'steelblue'`. Quito is technically in the Southern Hemisphere, but lies almost exactly on the equator. \n",
    "\n",
    "* Make the line color for all of the cities in the Northern Hemisphere dark orange (`'darkorange'`). Those cities are Kodiak (Alaska, US), Samarqand (Uzbekistan), and London (UK). "
   ]
  },
  {
   "cell_type": "code",
   "execution_count": null,
   "id": "e73ed471",
   "metadata": {
    "deletable": false,
    "tags": [
     "cp2"
    ]
   },
   "outputs": [],
   "source": [
    "## YOUR SOLUTION HERE ##\n",
    "plt.plot(line_data.month_name, line_data.alice_springs_avg_high)\n",
    "plt.plot(line_data.month_name, line_data.windhoek_avg_high)\n",
    "plt.plot(line_data.month_name, line_data.quito_avg_high)\n",
    "plt.plot(line_data.month_name, line_data.kodiak_avg_high)\n",
    "plt.plot(line_data.month_name, line_data.samarqand_avg_high)\n",
    "plt.plot(line_data.month_name, line_data.london_avg_high)\n",
    "plt.show()"
   ]
  },
  {
   "cell_type": "markdown",
   "id": "8d481799",
   "metadata": {},
   "source": [
    "#### 3. Add `linestyle` parameters"
   ]
  },
  {
   "cell_type": "markdown",
   "id": "c712d327",
   "metadata": {},
   "source": [
    "Finally, we'll use `linestyle` to differentiate lines of the same color.\n",
    "* We have two green lines. Give Alice Springs a `dotted` line and Windohoek a `dashed` line.\n",
    "* Quito is the only blue line, and we'll keep it solid. You can specify this using the `linestyle` parameter, or leave it blank since all lines default to `solid`. Either way, change the line width to 2.5.\n",
    "* We have three dark orange lines. Give Kodiak a `solid` line, Samarqand a `dotted` line, and London a `dashed` line."
   ]
  },
  {
   "cell_type": "code",
   "execution_count": null,
   "id": "4ddf801b",
   "metadata": {
    "deletable": false,
    "tags": [
     "cp3"
    ]
   },
   "outputs": [],
   "source": [
    "## YOUR SOLUTION HERE ##\n",
    "plt.plot(line_data.month_name, line_data.alice_springs_avg_high)\n",
    "plt.plot(line_data.month_name, line_data.windhoek_avg_high)\n",
    "plt.plot(line_data.month_name, line_data.quito_avg_high)\n",
    "plt.plot(line_data.month_name, line_data.kodiak_avg_high)\n",
    "plt.plot(line_data.month_name, line_data.samarqand_avg_high)\n",
    "plt.plot(line_data.month_name, line_data.london_avg_high)\n",
    "plt.show()"
   ]
  },
  {
   "cell_type": "code",
   "execution_count": null,
   "id": "2b8fc03b",
   "metadata": {},
   "outputs": [],
   "source": []
  }
 ],
 "metadata": {
  "kernelspec": {
   "display_name": "Python 3 (ipykernel)",
   "language": "python",
   "name": "python3"
  },
  "language_info": {
   "codemirror_mode": {
    "name": "ipython",
    "version": 3
   },
   "file_extension": ".py",
   "mimetype": "text/x-python",
   "name": "python",
   "nbconvert_exporter": "python",
   "pygments_lexer": "ipython3",
   "version": "3.8.10"
  }
 },
 "nbformat": 4,
 "nbformat_minor": 5
}
